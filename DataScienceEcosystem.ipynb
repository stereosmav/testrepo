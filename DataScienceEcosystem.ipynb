{
 "cells": [
  {
   "cell_type": "markdown",
   "id": "edd36e4c-4ca6-4909-95bf-66c30430308f",
   "metadata": {},
   "source": [
    "# Data Science Tools and Ecosystem"
   ]
  },
  {
   "cell_type": "markdown",
   "id": "5f71a96b-dbe8-49fe-b4e4-51e3f15060c4",
   "metadata": {},
   "source": [
    "In this notebook, Data Science Tools and Ecosystem are summarized."
   ]
  },
  {
   "cell_type": "markdown",
   "id": "49ce0061-5587-476e-9736-f4b9677703a7",
   "metadata": {},
   "source": [
    "__Objectives:__\n",
    "- List popular languages for Data Science\n",
    "- List common Data Science libraries\n",
    "- List common open-source Data Science tools\n",
    "- Examples of arithmetic operations\n",
    "- Practise in the use of Markdown cells in Jupyter\n"
   ]
  },
  {
   "cell_type": "markdown",
   "id": "b45b4172-01cb-425e-bd30-07b2a7f35f91",
   "metadata": {},
   "source": [
    "Some of the popular languages that Data Scientists use are:"
   ]
  },
  {
   "cell_type": "markdown",
   "id": "6d04a645-b757-43aa-887c-4c867d78f57b",
   "metadata": {},
   "source": [
    "1. Python\n",
    "2. R\n",
    "3. C\n"
   ]
  },
  {
   "cell_type": "markdown",
   "id": "184e7af5-92a0-4cee-ba8a-fba8af013b35",
   "metadata": {},
   "source": [
    "Some of the commonly used libraries used by Data Scientists include:\n",
    "1. numPy\n",
    "2. Pandas\n",
    "3. Matplotlib"
   ]
  },
  {
   "cell_type": "markdown",
   "id": "7a37b006-2772-4aee-a20e-4fd2797294b3",
   "metadata": {},
   "source": [
    "| Data Science Tools |\n",
    "| ------------------ |\n",
    "| Jupyter Notebook |\n",
    "| RStudio |\n",
    "| PyCharm |\n"
   ]
  },
  {
   "cell_type": "markdown",
   "id": "37acf596-4a3d-444e-8fa1-d9369092a7b8",
   "metadata": {},
   "source": [
    "### Below are a few examples of evaluating arithmetic expressions in Python\n"
   ]
  },
  {
   "cell_type": "code",
   "execution_count": 2,
   "id": "eeafa6e9-a9fc-4a43-917e-113d525e5167",
   "metadata": {},
   "outputs": [
    {
     "data": {
      "text/plain": [
       "17"
      ]
     },
     "execution_count": 2,
     "metadata": {},
     "output_type": "execute_result"
    }
   ],
   "source": [
    "#This a simple arithmetic expression to mutiply then add integers\n",
    "(3*4)+5"
   ]
  },
  {
   "cell_type": "code",
   "execution_count": 11,
   "id": "921da144-0b51-419f-8155-db77ed04a04a",
   "metadata": {},
   "outputs": [
    {
     "data": {
      "text/plain": [
       "3.33"
      ]
     },
     "execution_count": 11,
     "metadata": {},
     "output_type": "execute_result"
    }
   ],
   "source": [
    "#This will convert 200 minutes to hours by diving by 60\n",
    "round(200/60, 2)"
   ]
  },
  {
   "cell_type": "markdown",
   "id": "d2c87919-4660-4124-b3c6-ae68d52252ac",
   "metadata": {},
   "source": [
    "## Author\n",
    "Stereos"
   ]
  },
  {
   "cell_type": "code",
   "execution_count": null,
   "id": "fc9d1902-8157-4ca4-a145-130899770d64",
   "metadata": {},
   "outputs": [],
   "source": []
  }
 ],
 "metadata": {
  "kernelspec": {
   "display_name": "Python 3 (ipykernel)",
   "language": "python",
   "name": "python3"
  },
  "language_info": {
   "codemirror_mode": {
    "name": "ipython",
    "version": 3
   },
   "file_extension": ".py",
   "mimetype": "text/x-python",
   "name": "python",
   "nbconvert_exporter": "python",
   "pygments_lexer": "ipython3",
   "version": "3.9.16"
  }
 },
 "nbformat": 4,
 "nbformat_minor": 5
}
